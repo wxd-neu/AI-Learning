{
 "cells": [
  {
   "cell_type": "markdown",
   "metadata": {},
   "source": [
    "# Feature Scaling\n",
    "本文主要介绍一些常用的特征归一化方法以及如何使用这些方法，为了更好理解，会从以下几个方面进行介绍  \n",
    "    1. ___常用的feature scaling方法___\n",
    "    2. ___feaure scaling适用的场景___\n",
    "    \n",
    "\n",
    "## several feature scaling methods\n"
   ]
  }
 ],
 "metadata": {
  "kernelspec": {
   "display_name": "Python 3",
   "language": "python",
   "name": "python3"
  },
  "language_info": {
   "codemirror_mode": {
    "name": "ipython",
    "version": 3
   },
   "file_extension": ".py",
   "mimetype": "text/x-python",
   "name": "python",
   "nbconvert_exporter": "python",
   "pygments_lexer": "ipython3",
   "version": "3.6.8"
  }
 },
 "nbformat": 4,
 "nbformat_minor": 2
}
